{
  "cells": [
    {
      "cell_type": "markdown",
      "metadata": {
        "id": "view-in-github",
        "colab_type": "text"
      },
      "source": [
        "<a href=\"https://colab.research.google.com/github/amitsiwach/Miscellaneous-Projects/blob/main/Library_Management_System_using_classes.ipynb\" target=\"_parent\"><img src=\"https://colab.research.google.com/assets/colab-badge.svg\" alt=\"Open In Colab\"/></a>"
      ]
    },
    {
      "cell_type": "code",
      "execution_count": 1,
      "id": "b845e1fc",
      "metadata": {
        "id": "b845e1fc"
      },
      "outputs": [],
      "source": [
        "# import random library for randomly generating random book ID\n",
        "import random"
      ]
    },
    {
      "cell_type": "code",
      "execution_count": 2,
      "id": "8bb89698",
      "metadata": {
        "id": "8bb89698"
      },
      "outputs": [],
      "source": [
        "try:\n",
        "    class Books:\n",
        "        \n",
        "            #defining the constructor\n",
        "            def __init__(self):\n",
        "                pass\n",
        "             #setting the book_id\n",
        "            def set_book_id (self):\n",
        "                self.ID = random.randint(1000,2000)\n",
        "\n",
        "    \n",
        "            #setting the book_title\n",
        "            def set_book_title (self, title):\n",
        "                self.title = title\n",
        "\n",
        "            #Setting the book_author\n",
        "            def set_book_author(self, author):\n",
        "                self.author = author\n",
        "\n",
        "             #Setting the book_year\n",
        "            def set_book_year(self, year):\n",
        "                self.year = year\n",
        "\n",
        "            #Setting the book_publisher name\n",
        "            def set_book_publisher(self, publisher):\n",
        "                self.publisher = publisher\n",
        "            \n",
        "             #setting the no. of copies available\n",
        "            def set_number_of_copies_available(self, number_of_copies_available):\n",
        "                self.number_of_copies_available = number_of_copies_available\n",
        "\n",
        "            #setting the book publication date\n",
        "            def set_publication_date(self, publication_date):\n",
        "                self.publication_date = publication_date\n",
        "\n",
        "            #function to get the book_id\n",
        "            def get_book_id(self):\n",
        "                ID = self.ID\n",
        "                return ID\n",
        "            \n",
        "            #function to get the book_title\n",
        "            def get_book_title(self):\n",
        "                title = self.title\n",
        "                return title\n",
        "\n",
        "            #function to get the book_author\n",
        "            def get_book_author(self):\n",
        "                author = self.author\n",
        "                return author\n",
        "\n",
        "            #function to get the book pulication year\n",
        "            def get_book_year(self):\n",
        "                year = self.year\n",
        "                return self.year\n",
        "\n",
        "            #function to get the book pulication year\n",
        "            def get_book_publisher(self):\n",
        "                publisher = self.publisher\n",
        "                return publisher\n",
        "\n",
        "             #function to get the no. of copies available for the book\n",
        "            def get_number_of_copies_available(self):\n",
        "                number_of_copies_available = self.number_of_copies_available\n",
        "                return number_of_copies_available\n",
        "\n",
        "            #function to get the publication date\n",
        "            def get_publication_date(self):\n",
        "                publication_date = self.publication_date\n",
        "                return publication_date\n",
        "            \n",
        "except:\n",
        "    print(\"There is some issue with the code. Pls recheck it\")"
      ]
    },
    {
      "cell_type": "code",
      "execution_count": 3,
      "id": "85aadc6f",
      "metadata": {
        "id": "85aadc6f"
      },
      "outputs": [],
      "source": [
        "#creating an obejct of class Books\n",
        "book = Books()\n",
        "\n",
        "book.set_book_id()\n",
        "book.set_book_title(\"Revolution 2020\")\n",
        "book.set_book_author(\"Chetan Bhagat\")\n",
        "book.set_book_id()\n",
        "book.set_book_publisher(\"Rupa Pulications\")\n",
        "book.set_book_year(2005)\n",
        "book.set_publication_date('19-01-2005')"
      ]
    },
    {
      "cell_type": "code",
      "execution_count": 4,
      "id": "d5915731",
      "metadata": {
        "scrolled": true,
        "colab": {
          "base_uri": "https://localhost:8080/"
        },
        "id": "d5915731",
        "outputId": "cf9c45e8-ae96-4033-9648-67e17fd98718"
      },
      "outputs": [
        {
          "output_type": "stream",
          "name": "stdout",
          "text": [
            "Revolution 2020\n",
            "Chetan Bhagat\n",
            "1026\n",
            "Rupa Pulications\n",
            "2005\n",
            "19-01-2005\n"
          ]
        }
      ],
      "source": [
        "print(book.get_book_title())\n",
        "print(book.get_book_author())\n",
        "print(book.get_book_id())\n",
        "print(book.get_book_publisher())\n",
        "print(book.get_book_year())\n",
        "print(book.get_publication_date())"
      ]
    },
    {
      "cell_type": "code",
      "execution_count": 5,
      "id": "7ed12eb8",
      "metadata": {
        "id": "7ed12eb8"
      },
      "outputs": [],
      "source": [
        "#Creating global book colletion & user collection\n",
        "\n",
        "book_collection = {}\n",
        "user_collection = []"
      ]
    },
    {
      "cell_type": "code",
      "execution_count": 6,
      "id": "534b6ea8",
      "metadata": {
        "id": "534b6ea8"
      },
      "outputs": [],
      "source": [
        "try:\n",
        "    class BookList( Books ):\n",
        "    \n",
        "        def __init__(self):\n",
        "            self.status = \"Available\"\n",
        "            self.borrowers = \"\"\n",
        "\n",
        "            Books.__init__(self)\n",
        "            \n",
        "        #function to add key & value in book_collection\n",
        "        def add_values_in_dict(self, original_dict, key, list_of_values):\n",
        "            original_dict[key] = list()\n",
        "            original_dict[key].append(list_of_values)\n",
        "            return original_dict\n",
        "\n",
        "        #function to update the book_collection\n",
        "        def store_collection(self,title, author, year, publisher, number_of_copies_available, publication_date):\n",
        "\n",
        "            global book_collection\n",
        "\n",
        "            self.set_book_id()\n",
        "            self.set_book_title(title)\n",
        "            self.set_book_author(author)\n",
        "            self.set_book_year(year)\n",
        "            self.set_book_publisher(publisher)\n",
        "            self.set_number_of_copies_available(number_of_copies_available)\n",
        "            self.set_publication_date(publication_date)\n",
        "\n",
        "            book_id = self.get_book_id()\n",
        "            book_title = self.get_book_title()\n",
        "            book_author = self.get_book_author()\n",
        "            book_year = self.get_book_year()\n",
        "            book_publisher = self.get_book_publisher()\n",
        "            number_of_copies_available = self.get_number_of_copies_available()\n",
        "            publication_date = self.get_publication_date()\n",
        "            status = self.status\n",
        "            borrowers = self.borrowers\n",
        "\n",
        "            list_of_values = [book_id, book_author, book_year, book_publisher, number_of_copies_available, publication_date,status, borrowers]\n",
        "\n",
        "            book_collection = self.add_values_in_dict(book_collection, book_title, list_of_values)\n",
        "\n",
        "        # function to search book in book_collection by its title\n",
        "        def search_collection(self,title):\n",
        "            for key, value in book_collection.items():\n",
        "                if title == key:\n",
        "                    position = key\n",
        "                    print(\"Book Found\")\n",
        "                    print(book_collection[position])\n",
        "                    break\n",
        "\n",
        "        # function to remove book in book_collection by its title\n",
        "        def remove_collection(self,title):\n",
        "            temp_dict = book_collection\n",
        "            for key, value in temp_dict.items():\n",
        "                if key == self.title:\n",
        "                    print(\"Book Removed\")\n",
        "                    book_collection.pop(title)\n",
        "                    break\n",
        "\n",
        "        # function to count total no. of books in book_collection\n",
        "        def total_no_of_books(self):\n",
        "            print(\"Total No. of books are: \",len(book_collection))\n",
        "            \n",
        "except:\n",
        "    print(\"There is some issue with the code. Pls recheck it\")"
      ]
    },
    {
      "cell_type": "code",
      "execution_count": 7,
      "id": "861edd88",
      "metadata": {
        "id": "861edd88"
      },
      "outputs": [],
      "source": [
        "# Creating object of BookList class \n",
        "booklist = BookList()\n",
        "\n",
        "# Updating 1st book in Library\n",
        "booklist.store_collection(\"Revolution 2020\", \"Chetan Bhagat\", 2005, \"Rupa Pulications\",  5, '19-01-2005')"
      ]
    },
    {
      "cell_type": "code",
      "execution_count": 8,
      "id": "d1997750",
      "metadata": {
        "colab": {
          "base_uri": "https://localhost:8080/"
        },
        "id": "d1997750",
        "outputId": "871df6c1-408f-42ec-80b4-164df0c89175"
      },
      "outputs": [
        {
          "output_type": "execute_result",
          "data": {
            "text/plain": [
              "{'Revolution 2020': [[1654,\n",
              "   'Chetan Bhagat',\n",
              "   2005,\n",
              "   'Rupa Pulications',\n",
              "   5,\n",
              "   '19-01-2005',\n",
              "   'Available',\n",
              "   '']]}"
            ]
          },
          "metadata": {},
          "execution_count": 8
        }
      ],
      "source": [
        "book_collection"
      ]
    },
    {
      "cell_type": "code",
      "execution_count": 9,
      "id": "657b7c38",
      "metadata": {
        "scrolled": true,
        "id": "657b7c38"
      },
      "outputs": [],
      "source": [
        "booklist.store_collection(\"The Secret\", \"Rhonda Byrne\", 2000, \"WestLand Pulications\",  5, \"24-02-2004\")"
      ]
    },
    {
      "cell_type": "code",
      "execution_count": 10,
      "id": "946bbbc7",
      "metadata": {
        "colab": {
          "base_uri": "https://localhost:8080/"
        },
        "id": "946bbbc7",
        "outputId": "c799bdd8-6a4d-4e55-ae47-9b8b4f36be6b"
      },
      "outputs": [
        {
          "output_type": "execute_result",
          "data": {
            "text/plain": [
              "{'Revolution 2020': [[1654,\n",
              "   'Chetan Bhagat',\n",
              "   2005,\n",
              "   'Rupa Pulications',\n",
              "   5,\n",
              "   '19-01-2005',\n",
              "   'Available',\n",
              "   '']],\n",
              " 'The Secret': [[1195,\n",
              "   'Rhonda Byrne',\n",
              "   2000,\n",
              "   'WestLand Pulications',\n",
              "   5,\n",
              "   '24-02-2004',\n",
              "   'Available',\n",
              "   '']]}"
            ]
          },
          "metadata": {},
          "execution_count": 10
        }
      ],
      "source": [
        "book_collection"
      ]
    },
    {
      "cell_type": "code",
      "execution_count": 11,
      "id": "88b034a8",
      "metadata": {
        "colab": {
          "base_uri": "https://localhost:8080/",
          "height": 36
        },
        "id": "88b034a8",
        "outputId": "b4ea5621-c5fb-45dc-dc33-059b6889b351"
      },
      "outputs": [
        {
          "output_type": "execute_result",
          "data": {
            "text/plain": [
              "'Available'"
            ],
            "application/vnd.google.colaboratory.intrinsic+json": {
              "type": "string"
            }
          },
          "metadata": {},
          "execution_count": 11
        }
      ],
      "source": [
        "book_collection['The Secret'][0][6]"
      ]
    },
    {
      "cell_type": "code",
      "execution_count": 12,
      "id": "658faa2b",
      "metadata": {
        "scrolled": false,
        "colab": {
          "base_uri": "https://localhost:8080/"
        },
        "id": "658faa2b",
        "outputId": "161c6afb-0479-4ad5-9870-0874037eb036"
      },
      "outputs": [
        {
          "output_type": "stream",
          "name": "stdout",
          "text": [
            "Book Found\n",
            "[[1195, 'Rhonda Byrne', 2000, 'WestLand Pulications', 5, '24-02-2004', 'Available', '']]\n"
          ]
        }
      ],
      "source": [
        "booklist.search_collection(\"The Secret\")"
      ]
    },
    {
      "cell_type": "code",
      "execution_count": 13,
      "id": "c04a25c1",
      "metadata": {
        "colab": {
          "base_uri": "https://localhost:8080/"
        },
        "id": "c04a25c1",
        "outputId": "a39da54a-eb5b-48ba-9cc8-1092f331123d"
      },
      "outputs": [
        {
          "output_type": "stream",
          "name": "stdout",
          "text": [
            "Book Found\n",
            "[[1654, 'Chetan Bhagat', 2005, 'Rupa Pulications', 5, '19-01-2005', 'Available', '']]\n"
          ]
        }
      ],
      "source": [
        "booklist.search_collection(\"Revolution 2020\")"
      ]
    },
    {
      "cell_type": "code",
      "execution_count": 14,
      "id": "5bb6bc84",
      "metadata": {
        "colab": {
          "base_uri": "https://localhost:8080/"
        },
        "id": "5bb6bc84",
        "outputId": "120d5f79-47ab-466a-9a4d-025a9e484f7b"
      },
      "outputs": [
        {
          "output_type": "stream",
          "name": "stdout",
          "text": [
            "Total No. of books are:  2\n"
          ]
        }
      ],
      "source": [
        "booklist.total_no_of_books()"
      ]
    },
    {
      "cell_type": "code",
      "execution_count": 15,
      "id": "5487c4c5",
      "metadata": {
        "id": "5487c4c5"
      },
      "outputs": [],
      "source": [
        "# booklist.remove_collection('Revolution 2020')"
      ]
    },
    {
      "cell_type": "code",
      "execution_count": 16,
      "id": "d7b8ae40",
      "metadata": {
        "colab": {
          "base_uri": "https://localhost:8080/"
        },
        "id": "d7b8ae40",
        "outputId": "d0ce5901-cd73-4411-d4ff-2e3b51093063"
      },
      "outputs": [
        {
          "output_type": "execute_result",
          "data": {
            "text/plain": [
              "{'Revolution 2020': [[1654,\n",
              "   'Chetan Bhagat',\n",
              "   2005,\n",
              "   'Rupa Pulications',\n",
              "   5,\n",
              "   '19-01-2005',\n",
              "   'Available',\n",
              "   '']],\n",
              " 'The Secret': [[1195,\n",
              "   'Rhonda Byrne',\n",
              "   2000,\n",
              "   'WestLand Pulications',\n",
              "   5,\n",
              "   '24-02-2004',\n",
              "   'Available',\n",
              "   '']]}"
            ]
          },
          "metadata": {},
          "execution_count": 16
        }
      ],
      "source": [
        "book_collection"
      ]
    },
    {
      "cell_type": "code",
      "execution_count": 17,
      "id": "ff1fb560",
      "metadata": {
        "colab": {
          "base_uri": "https://localhost:8080/"
        },
        "id": "ff1fb560",
        "outputId": "4192d153-9a31-469d-c6d0-cdcb67f2db68"
      },
      "outputs": [
        {
          "output_type": "stream",
          "name": "stdout",
          "text": [
            "Total No. of books are:  2\n"
          ]
        }
      ],
      "source": [
        "booklist.total_no_of_books()"
      ]
    },
    {
      "cell_type": "code",
      "execution_count": 18,
      "id": "5d67f1a3",
      "metadata": {
        "id": "5d67f1a3"
      },
      "outputs": [],
      "source": [
        "try:\n",
        "    class Users:\n",
        "        def __init__(self):\n",
        "            pass\n",
        "        \n",
        "        #function to create user\n",
        "        def create_user(self, username, firstname, surname, house_no, street_name, postcode, email_address, dob):\n",
        "            self.username = username\n",
        "            self.firstname = firstname\n",
        "            self.surname = surname \n",
        "            self.house_no = house_no \n",
        "            self.street_name = street_name\n",
        "            self.postcode = postcode\n",
        "            self.email_address = email_address\n",
        "            self.dob = dob\n",
        "\n",
        "        #function to return username\n",
        "        def return_username(self):\n",
        "            username = self.username\n",
        "            return username\n",
        "\n",
        "        #function to return firstname\n",
        "        def return_firstname(self):\n",
        "            firstname = self.firstname\n",
        "            return firstname\n",
        "\n",
        "        #function to return surname\n",
        "        def return_surname(self):\n",
        "            surname = self.surname\n",
        "            return surname\n",
        "\n",
        "        #function to return house no\n",
        "        def return_house_no(self):\n",
        "            house_no = self.house_no\n",
        "            return house_no\n",
        "\n",
        "        #function to return street name\n",
        "        def return_street_name(self):\n",
        "            street_name = self.street_name\n",
        "            return street_name\n",
        "\n",
        "        #function to return post code\n",
        "        def return_postcode(self):\n",
        "            postcode = self.postcode\n",
        "            return postcode\n",
        "\n",
        "        #function to return email address\n",
        "        def return_email_address(self):\n",
        "            email_address = self.email_address\n",
        "            return email_address\n",
        "\n",
        "        #function to return dob\n",
        "        def return_dob(self):\n",
        "            dob = self.dob\n",
        "            return dob\n",
        "\n",
        "        #function to edit username\n",
        "        def edit_username(self, new_username):\n",
        "            self.username = self.new_username\n",
        "        \n",
        "        #function to edit surname\n",
        "        def edit_surname(self, new_surname):\n",
        "            self.surname = self.new_surname\n",
        "\n",
        "        #function to edit email_address\n",
        "        def edit_email_address(self, new_email_address):\n",
        "            self.email_address = self.new_email_address\n",
        "\n",
        "        #function to edit dob\n",
        "        def edit_dob(self, new_dob):\n",
        "            self.dob = self.new_dob\n",
        "            \n",
        "except:\n",
        "    print(\"There is some issue with the code. Pls recheck it\")"
      ]
    },
    {
      "cell_type": "code",
      "execution_count": 19,
      "id": "577f4170",
      "metadata": {
        "id": "577f4170"
      },
      "outputs": [],
      "source": [
        "user = Users()\n",
        "user.create_user('amitkumar','Amit','Kumar', 609, 'Street 101', 124109, 'amitkumar@gmail.com','13-11-1996')"
      ]
    },
    {
      "cell_type": "code",
      "execution_count": 20,
      "id": "502f19c3",
      "metadata": {
        "colab": {
          "base_uri": "https://localhost:8080/"
        },
        "id": "502f19c3",
        "outputId": "8fdcea52-1e35-4129-b119-9559c2b582fb"
      },
      "outputs": [
        {
          "output_type": "stream",
          "name": "stdout",
          "text": [
            "amitkumar\n",
            "Amit\n",
            "Kumar\n",
            "609\n",
            "Street 101\n",
            "124109\n",
            "amitkumar@gmail.com\n",
            "13-11-1996\n"
          ]
        }
      ],
      "source": [
        "print(user.return_username())\n",
        "print(user.return_firstname())\n",
        "print(user.return_surname())\n",
        "print(user.return_house_no())\n",
        "print(user.return_street_name())\n",
        "print(user.return_postcode())\n",
        "print(user.return_email_address())\n",
        "print(user.return_dob())"
      ]
    },
    {
      "cell_type": "code",
      "execution_count": 21,
      "id": "f2246220",
      "metadata": {
        "colab": {
          "base_uri": "https://localhost:8080/"
        },
        "id": "f2246220",
        "outputId": "c76b3cb1-6cd1-43f9-9068-1ee917dcd0da"
      },
      "outputs": [
        {
          "output_type": "execute_result",
          "data": {
            "text/plain": [
              "[]"
            ]
          },
          "metadata": {},
          "execution_count": 21
        }
      ],
      "source": [
        "user_collection"
      ]
    },
    {
      "cell_type": "code",
      "execution_count": 22,
      "id": "d3639fe9",
      "metadata": {
        "id": "d3639fe9"
      },
      "outputs": [],
      "source": [
        "try:\n",
        "    class UserList( Users ):\n",
        "    \n",
        "        def __init__(self):\n",
        "            \n",
        "            #Assigning no. of inital borrowers of any book as 0\n",
        "            self.borrowing = 0\n",
        "            \n",
        "            #Assigning username of inital borrowers of any book as ''\n",
        "            self.borrowing_list =\"\"\n",
        "\n",
        "            Users.__init__(self)  \n",
        "\n",
        "        #function to add userdetails in a list\n",
        "        def add_values_in_list(self, original_list, list_of_values):\n",
        "            original_list.append(list_of_values)\n",
        "            return original_list\n",
        "\n",
        "        #function to add  new user details\n",
        "        def store_collection(self, username, firstname, surname, house_no, street_name, postcode, email_address, dob):\n",
        "\n",
        "            global user_collection\n",
        "\n",
        "            self.username = username\n",
        "            self.firstname = firstname\n",
        "            self.surname = surname\n",
        "            self.house_no = house_no\n",
        "            self.street_name = street_name\n",
        "            self.postcode = postcode\n",
        "            self.email_address = email_address\n",
        "            self.dob = dob\n",
        "            borrowing = self.borrowing\n",
        "            borrowing_list = self.borrowing_list\n",
        "\n",
        "            list_of_values = [username ,firstname, surname, house_no, street_name, postcode, email_address, dob,borrowing, borrowing_list]\n",
        "\n",
        "            user_collection = self.add_values_in_list(user_collection, list_of_values)\n",
        "\n",
        "        #function to remove any user details using firstname\n",
        "        def remove_user(self,firstname):\n",
        "            temp_list = user_collection\n",
        "            for value in temp_list:\n",
        "                if firstname in value:\n",
        "                    user_collection.remove(value)\n",
        "                    print(\"User Deleted\")\n",
        "                    break\n",
        "        \n",
        "        #function to return total no. of users\n",
        "        def total_no_of_users(self):\n",
        "            print(\"Total No. of Users are: \",len(user_collection))\n",
        "        \n",
        "        #function to return user details of any user\n",
        "        def user_details(self,username):\n",
        "            global user_collection\n",
        "            for value in user_collection:\n",
        "                for i in value:\n",
        "                    if username == i:\n",
        "                        index = user_collection.index(value)\n",
        "                        print(\"User Found\")\n",
        "                        return user_collection[index]\n",
        "                \n",
        "except:\n",
        "    print(\"There is some issue with the code. Pls recheck it\")\n",
        "            "
      ]
    },
    {
      "cell_type": "code",
      "execution_count": 23,
      "id": "1409a41b",
      "metadata": {
        "id": "1409a41b"
      },
      "outputs": [],
      "source": [
        "userlist = UserList()\n",
        "userlist.store_collection('amitkumar','Amit','Kumar', 609, 'Street 101', 124109, 'amitkumar@gmail.com','13-11-1996')"
      ]
    },
    {
      "cell_type": "code",
      "execution_count": 24,
      "id": "2ae1d921",
      "metadata": {
        "colab": {
          "base_uri": "https://localhost:8080/"
        },
        "id": "2ae1d921",
        "outputId": "60b7ad8a-1a5a-4165-85dd-d703e7ce6b26"
      },
      "outputs": [
        {
          "output_type": "execute_result",
          "data": {
            "text/plain": [
              "[['amitkumar',\n",
              "  'Amit',\n",
              "  'Kumar',\n",
              "  609,\n",
              "  'Street 101',\n",
              "  124109,\n",
              "  'amitkumar@gmail.com',\n",
              "  '13-11-1996',\n",
              "  0,\n",
              "  '']]"
            ]
          },
          "metadata": {},
          "execution_count": 24
        }
      ],
      "source": [
        "user_collection"
      ]
    },
    {
      "cell_type": "code",
      "execution_count": 25,
      "id": "7886ce10",
      "metadata": {
        "id": "7886ce10"
      },
      "outputs": [],
      "source": [
        "userlist.store_collection('edisonabiya','Edison','Abiya', 710, 'Street 202', 100001, 'edisonabiya@gmail.com','22-02-1998')"
      ]
    },
    {
      "cell_type": "code",
      "execution_count": 26,
      "id": "3706578d",
      "metadata": {
        "colab": {
          "base_uri": "https://localhost:8080/"
        },
        "id": "3706578d",
        "outputId": "dcec3b9d-f436-4865-c691-bca74e654d0d"
      },
      "outputs": [
        {
          "output_type": "execute_result",
          "data": {
            "text/plain": [
              "[['amitkumar',\n",
              "  'Amit',\n",
              "  'Kumar',\n",
              "  609,\n",
              "  'Street 101',\n",
              "  124109,\n",
              "  'amitkumar@gmail.com',\n",
              "  '13-11-1996',\n",
              "  0,\n",
              "  ''],\n",
              " ['edisonabiya',\n",
              "  'Edison',\n",
              "  'Abiya',\n",
              "  710,\n",
              "  'Street 202',\n",
              "  100001,\n",
              "  'edisonabiya@gmail.com',\n",
              "  '22-02-1998',\n",
              "  0,\n",
              "  '']]"
            ]
          },
          "metadata": {},
          "execution_count": 26
        }
      ],
      "source": [
        "user_collection"
      ]
    },
    {
      "cell_type": "code",
      "execution_count": 27,
      "id": "3a2f4dc3",
      "metadata": {
        "scrolled": true,
        "colab": {
          "base_uri": "https://localhost:8080/"
        },
        "id": "3a2f4dc3",
        "outputId": "7963b67d-b948-4412-8aab-a5764f55ddf7"
      },
      "outputs": [
        {
          "output_type": "stream",
          "name": "stdout",
          "text": [
            "Total No. of Users are:  2\n"
          ]
        }
      ],
      "source": [
        "userlist.total_no_of_users()"
      ]
    },
    {
      "cell_type": "code",
      "execution_count": 28,
      "id": "6ea43ffb",
      "metadata": {
        "scrolled": false,
        "colab": {
          "base_uri": "https://localhost:8080/"
        },
        "id": "6ea43ffb",
        "outputId": "84730c84-7035-4c3b-c5b3-0da4c78c03f8"
      },
      "outputs": [
        {
          "output_type": "stream",
          "name": "stdout",
          "text": [
            "User Found\n"
          ]
        },
        {
          "output_type": "execute_result",
          "data": {
            "text/plain": [
              "['edisonabiya',\n",
              " 'Edison',\n",
              " 'Abiya',\n",
              " 710,\n",
              " 'Street 202',\n",
              " 100001,\n",
              " 'edisonabiya@gmail.com',\n",
              " '22-02-1998',\n",
              " 0,\n",
              " '']"
            ]
          },
          "metadata": {},
          "execution_count": 28
        }
      ],
      "source": [
        "userlist.user_details('edisonabiya')"
      ]
    },
    {
      "cell_type": "code",
      "execution_count": 29,
      "id": "5c835d20",
      "metadata": {
        "colab": {
          "base_uri": "https://localhost:8080/"
        },
        "id": "5c835d20",
        "outputId": "a9d18f96-0286-4191-a1b6-0be1fecc7610"
      },
      "outputs": [
        {
          "output_type": "stream",
          "name": "stdout",
          "text": [
            "User Found\n"
          ]
        },
        {
          "output_type": "execute_result",
          "data": {
            "text/plain": [
              "['amitkumar',\n",
              " 'Amit',\n",
              " 'Kumar',\n",
              " 609,\n",
              " 'Street 101',\n",
              " 124109,\n",
              " 'amitkumar@gmail.com',\n",
              " '13-11-1996',\n",
              " 0,\n",
              " '']"
            ]
          },
          "metadata": {},
          "execution_count": 29
        }
      ],
      "source": [
        "userlist.user_details('amitkumar')"
      ]
    },
    {
      "cell_type": "code",
      "execution_count": 30,
      "id": "e44f0cd0",
      "metadata": {
        "scrolled": true,
        "id": "e44f0cd0"
      },
      "outputs": [],
      "source": [
        "# userlist.remove_user('Amit')"
      ]
    },
    {
      "cell_type": "code",
      "execution_count": 31,
      "id": "c38648d2",
      "metadata": {
        "scrolled": false,
        "colab": {
          "base_uri": "https://localhost:8080/"
        },
        "id": "c38648d2",
        "outputId": "124c2a55-62e1-4365-b9bf-1b6b60e743ae"
      },
      "outputs": [
        {
          "output_type": "execute_result",
          "data": {
            "text/plain": [
              "[['amitkumar',\n",
              "  'Amit',\n",
              "  'Kumar',\n",
              "  609,\n",
              "  'Street 101',\n",
              "  124109,\n",
              "  'amitkumar@gmail.com',\n",
              "  '13-11-1996',\n",
              "  0,\n",
              "  ''],\n",
              " ['edisonabiya',\n",
              "  'Edison',\n",
              "  'Abiya',\n",
              "  710,\n",
              "  'Street 202',\n",
              "  100001,\n",
              "  'edisonabiya@gmail.com',\n",
              "  '22-02-1998',\n",
              "  0,\n",
              "  '']]"
            ]
          },
          "metadata": {},
          "execution_count": 31
        }
      ],
      "source": [
        "user_collection"
      ]
    },
    {
      "cell_type": "code",
      "execution_count": 32,
      "id": "02285f91",
      "metadata": {
        "scrolled": true,
        "colab": {
          "base_uri": "https://localhost:8080/"
        },
        "id": "02285f91",
        "outputId": "3fa91c21-e29d-4ea1-c6cf-f91ff7782956"
      },
      "outputs": [
        {
          "output_type": "execute_result",
          "data": {
            "text/plain": [
              "{'Revolution 2020': [[1654,\n",
              "   'Chetan Bhagat',\n",
              "   2005,\n",
              "   'Rupa Pulications',\n",
              "   5,\n",
              "   '19-01-2005',\n",
              "   'Available',\n",
              "   '']],\n",
              " 'The Secret': [[1195,\n",
              "   'Rhonda Byrne',\n",
              "   2000,\n",
              "   'WestLand Pulications',\n",
              "   5,\n",
              "   '24-02-2004',\n",
              "   'Available',\n",
              "   '']]}"
            ]
          },
          "metadata": {},
          "execution_count": 32
        }
      ],
      "source": [
        "book_collection"
      ]
    },
    {
      "cell_type": "code",
      "execution_count": 33,
      "id": "0fdf87a9",
      "metadata": {
        "colab": {
          "base_uri": "https://localhost:8080/"
        },
        "id": "0fdf87a9",
        "outputId": "c591d5f9-89f2-4c82-a078-faee9cbcba91"
      },
      "outputs": [
        {
          "output_type": "execute_result",
          "data": {
            "text/plain": [
              "[[1195,\n",
              "  'Rhonda Byrne',\n",
              "  2000,\n",
              "  'WestLand Pulications',\n",
              "  5,\n",
              "  '24-02-2004',\n",
              "  'Available',\n",
              "  '']]"
            ]
          },
          "metadata": {},
          "execution_count": 33
        }
      ],
      "source": [
        "book_collection['The Secret']"
      ]
    },
    {
      "cell_type": "code",
      "execution_count": 34,
      "id": "98d929e8",
      "metadata": {
        "colab": {
          "base_uri": "https://localhost:8080/"
        },
        "id": "98d929e8",
        "outputId": "e81ced58-1cd7-4452-c74d-1b5ed4bce240"
      },
      "outputs": [
        {
          "output_type": "execute_result",
          "data": {
            "text/plain": [
              "[1195,\n",
              " 'Rhonda Byrne',\n",
              " 2000,\n",
              " 'WestLand Pulications',\n",
              " 5,\n",
              " '24-02-2004',\n",
              " 'Available',\n",
              " '']"
            ]
          },
          "metadata": {},
          "execution_count": 34
        }
      ],
      "source": [
        "book_collection['The Secret'][0]"
      ]
    },
    {
      "cell_type": "code",
      "execution_count": 35,
      "id": "51e93b30",
      "metadata": {
        "colab": {
          "base_uri": "https://localhost:8080/",
          "height": 36
        },
        "id": "51e93b30",
        "outputId": "dd8b693c-a40a-4763-8f99-1bb71d38e69d"
      },
      "outputs": [
        {
          "output_type": "execute_result",
          "data": {
            "text/plain": [
              "''"
            ],
            "application/vnd.google.colaboratory.intrinsic+json": {
              "type": "string"
            }
          },
          "metadata": {},
          "execution_count": 35
        }
      ],
      "source": [
        "book_collection['The Secret'][0][7]"
      ]
    },
    {
      "cell_type": "code",
      "execution_count": 36,
      "id": "ebf2fae6",
      "metadata": {
        "id": "ebf2fae6"
      },
      "outputs": [],
      "source": [
        "class Loans(Users):\n",
        "    def __init__(self):\n",
        "        \n",
        "        Users.__init__(self)\n",
        "    \n",
        "    #function to add borrowing details of any user & book when user borrows the book\n",
        "    def borrow_book(self, book_name, username):\n",
        "        \n",
        "        global book_collection\n",
        "        global user_collection\n",
        "        \n",
        "        for key in book_collection.keys():\n",
        "            if key == book_name:\n",
        "                book_collection[book_name][0][6] = 'Unavailable'\n",
        "                book_collection[book_name][0][7] = book_collection[book_name][0][7] + username + ', '\n",
        "            \n",
        "            \n",
        "        for value in user_collection:\n",
        "            for i in value:\n",
        "                if i == username:\n",
        "                    index = user_collection.index(value)\n",
        "                    user_collection[index][8]=user_collection[index][8] + 1\n",
        "                    user_collection[index][9] = user_collection[index][9] + book_name + ', '\n",
        "                    print(\"Book has been issued at your name\")\n",
        "                    break\n",
        "    \n",
        "    #function to remove borrowing details of any user & book when user returns the book\n",
        "    def return_book(self, book_name, username):\n",
        "        \n",
        "        global book_collection\n",
        "        global user_collection\n",
        "        \n",
        "        if book_name in book_collection.keys():\n",
        "            book_collection[book_name][0][6] = 'Available'\n",
        "            \n",
        "            for value in user_collection:\n",
        "                for i in value:\n",
        "                    if username == i:\n",
        "                        index = user_collection.index(value)\n",
        "                        user_collection[index][8]= user_collection[index][8] -1\n",
        "                        user_collection[index][9] = user_collection[index][9].replace(book_name + ',', '')\n",
        "                        book_collection[book_name][0][7] = book_collection[book_name][0][7].replace(username + ',' ,'')\n",
        "                        print(\"Book has been Returned by your name\")\n",
        "                        \n",
        "    #function to count the no. of books any user had borrowed\n",
        "    def count_no_of_books_borrowing(self, username):\n",
        "        for value in user_collection:\n",
        "                for i in value:\n",
        "                    if username == i:\n",
        "                        index = user_collection.index(value)\n",
        "                        return user_collection[index][8]\n",
        "                    \n",
        "    #function to return the details of all the users who have borrowed any book\n",
        "    def borrower_details_of_a_book(self, book_name):\n",
        "        for value in book_collection.keys():\n",
        "            if value == book_name:\n",
        "                temp_variable = book_collection[value][0][7].split(',')\n",
        "                temp_variable.remove(' ')\n",
        "                return temp_variable"
      ]
    },
    {
      "cell_type": "code",
      "execution_count": 37,
      "id": "41dbbd11",
      "metadata": {
        "id": "41dbbd11"
      },
      "outputs": [],
      "source": [
        "loans = Loans()"
      ]
    },
    {
      "cell_type": "code",
      "execution_count": 38,
      "id": "598cb7c6",
      "metadata": {
        "scrolled": true,
        "colab": {
          "base_uri": "https://localhost:8080/"
        },
        "id": "598cb7c6",
        "outputId": "30aba075-ac30-4bab-feae-4d9b74c8c495"
      },
      "outputs": [
        {
          "output_type": "stream",
          "name": "stdout",
          "text": [
            "Book has been issued at your name\n"
          ]
        }
      ],
      "source": [
        "loans.borrow_book(\"The Secret\",'amitkumar')"
      ]
    },
    {
      "cell_type": "code",
      "execution_count": 39,
      "id": "ff68cfed",
      "metadata": {
        "scrolled": false,
        "colab": {
          "base_uri": "https://localhost:8080/"
        },
        "id": "ff68cfed",
        "outputId": "961bfa61-c901-4529-dc5c-56337b9fdef0"
      },
      "outputs": [
        {
          "output_type": "execute_result",
          "data": {
            "text/plain": [
              "[['amitkumar',\n",
              "  'Amit',\n",
              "  'Kumar',\n",
              "  609,\n",
              "  'Street 101',\n",
              "  124109,\n",
              "  'amitkumar@gmail.com',\n",
              "  '13-11-1996',\n",
              "  1,\n",
              "  'The Secret, '],\n",
              " ['edisonabiya',\n",
              "  'Edison',\n",
              "  'Abiya',\n",
              "  710,\n",
              "  'Street 202',\n",
              "  100001,\n",
              "  'edisonabiya@gmail.com',\n",
              "  '22-02-1998',\n",
              "  0,\n",
              "  '']]"
            ]
          },
          "metadata": {},
          "execution_count": 39
        }
      ],
      "source": [
        "user_collection"
      ]
    },
    {
      "cell_type": "code",
      "execution_count": 40,
      "id": "78216eb2",
      "metadata": {
        "colab": {
          "base_uri": "https://localhost:8080/"
        },
        "id": "78216eb2",
        "outputId": "e9c61576-0264-4178-8a36-ff92a4d79f25"
      },
      "outputs": [
        {
          "output_type": "execute_result",
          "data": {
            "text/plain": [
              "{'Revolution 2020': [[1654,\n",
              "   'Chetan Bhagat',\n",
              "   2005,\n",
              "   'Rupa Pulications',\n",
              "   5,\n",
              "   '19-01-2005',\n",
              "   'Available',\n",
              "   '']],\n",
              " 'The Secret': [[1195,\n",
              "   'Rhonda Byrne',\n",
              "   2000,\n",
              "   'WestLand Pulications',\n",
              "   5,\n",
              "   '24-02-2004',\n",
              "   'Unavailable',\n",
              "   'amitkumar, ']]}"
            ]
          },
          "metadata": {},
          "execution_count": 40
        }
      ],
      "source": [
        "book_collection"
      ]
    },
    {
      "cell_type": "code",
      "execution_count": 41,
      "id": "1e048ab0",
      "metadata": {
        "colab": {
          "base_uri": "https://localhost:8080/"
        },
        "id": "1e048ab0",
        "outputId": "adc073fc-2bdb-4d7a-9905-2f473141e6f7"
      },
      "outputs": [
        {
          "output_type": "execute_result",
          "data": {
            "text/plain": [
              "1"
            ]
          },
          "metadata": {},
          "execution_count": 41
        }
      ],
      "source": [
        "loans.count_no_of_books_borrowing('amitkumar')"
      ]
    },
    {
      "cell_type": "code",
      "execution_count": 42,
      "id": "155d052c",
      "metadata": {
        "colab": {
          "base_uri": "https://localhost:8080/"
        },
        "id": "155d052c",
        "outputId": "c1baeac5-9fd5-474a-d705-f4d1aea6b92b"
      },
      "outputs": [
        {
          "output_type": "execute_result",
          "data": {
            "text/plain": [
              "0"
            ]
          },
          "metadata": {},
          "execution_count": 42
        }
      ],
      "source": [
        "loans.count_no_of_books_borrowing('edisonabiya')"
      ]
    },
    {
      "cell_type": "code",
      "execution_count": 43,
      "id": "1a854ea5",
      "metadata": {
        "colab": {
          "base_uri": "https://localhost:8080/"
        },
        "id": "1a854ea5",
        "outputId": "547aee59-7bba-49a4-ced0-000ab6234e62"
      },
      "outputs": [
        {
          "output_type": "stream",
          "name": "stdout",
          "text": [
            "Book has been Returned by your name\n"
          ]
        }
      ],
      "source": [
        "loans.return_book(\"The Secret\",'amitkumar')"
      ]
    },
    {
      "cell_type": "code",
      "execution_count": 44,
      "id": "f11585b0",
      "metadata": {
        "colab": {
          "base_uri": "https://localhost:8080/"
        },
        "id": "f11585b0",
        "outputId": "a1af4a63-5d79-4e61-8ae9-2e9310f00f7e"
      },
      "outputs": [
        {
          "output_type": "execute_result",
          "data": {
            "text/plain": [
              "0"
            ]
          },
          "metadata": {},
          "execution_count": 44
        }
      ],
      "source": [
        "loans.count_no_of_books_borrowing('amitkumar')"
      ]
    },
    {
      "cell_type": "code",
      "execution_count": 45,
      "id": "609a5bc4",
      "metadata": {
        "scrolled": true,
        "colab": {
          "base_uri": "https://localhost:8080/"
        },
        "id": "609a5bc4",
        "outputId": "567674c1-dfcd-4fd2-cf04-c241e2e68407"
      },
      "outputs": [
        {
          "output_type": "execute_result",
          "data": {
            "text/plain": [
              "{'Revolution 2020': [[1654,\n",
              "   'Chetan Bhagat',\n",
              "   2005,\n",
              "   'Rupa Pulications',\n",
              "   5,\n",
              "   '19-01-2005',\n",
              "   'Available',\n",
              "   '']],\n",
              " 'The Secret': [[1195,\n",
              "   'Rhonda Byrne',\n",
              "   2000,\n",
              "   'WestLand Pulications',\n",
              "   5,\n",
              "   '24-02-2004',\n",
              "   'Available',\n",
              "   ' ']]}"
            ]
          },
          "metadata": {},
          "execution_count": 45
        }
      ],
      "source": [
        "book_collection"
      ]
    }
  ],
  "metadata": {
    "kernelspec": {
      "display_name": "Python 3",
      "language": "python",
      "name": "python3"
    },
    "language_info": {
      "codemirror_mode": {
        "name": "ipython",
        "version": 3
      },
      "file_extension": ".py",
      "mimetype": "text/x-python",
      "name": "python",
      "nbconvert_exporter": "python",
      "pygments_lexer": "ipython3",
      "version": "3.8.5"
    },
    "colab": {
      "provenance": [],
      "include_colab_link": true
    }
  },
  "nbformat": 4,
  "nbformat_minor": 5
}